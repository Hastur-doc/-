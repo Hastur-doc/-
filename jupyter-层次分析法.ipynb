{
 "cells": [
  {
   "cell_type": "code",
   "execution_count": null,
   "id": "515940aa79b5786a",
   "metadata": {
    "collapsed": false
   },
   "outputs": [],
   "source": [
    "#一致性检验"
   ]
  },
  {
   "cell_type": "code",
   "outputs": [
    {
     "data": {
      "text/plain": "array([[1.        , 2.        , 3.        , 5.        ],\n       [0.5       , 1.        , 0.5       , 2.        ],\n       [0.33333333, 2.        , 1.        , 0.5       ],\n       [0.2       , 0.5       , 0.5       , 1.        ]])"
     },
     "execution_count": 1,
     "metadata": {},
     "output_type": "execute_result"
    }
   ],
   "source": [
    "import numpy as np\n",
    "#numpy创造数组\n",
    "A=np.array([[1,2,3,5,],[1/2,1,1/2,2],[1/3,2,1,1/2],[1/5,1/2,1/2,1]])\n",
    "A"
   ],
   "metadata": {
    "collapsed": false,
    "ExecuteTime": {
     "end_time": "2025-07-26T09:32:02.474307Z",
     "start_time": "2025-07-26T09:32:02.390956Z"
    }
   },
   "id": "ef467025d65d246b",
   "execution_count": 1
  },
  {
   "cell_type": "code",
   "outputs": [
    {
     "data": {
      "text/plain": "4"
     },
     "execution_count": 2,
     "metadata": {},
     "output_type": "execute_result"
    }
   ],
   "source": [
    "#获取A的行，shape获取形状信息\n",
    "n=A.shape[0]\n",
    "n"
   ],
   "metadata": {
    "collapsed": false,
    "ExecuteTime": {
     "end_time": "2025-07-26T09:32:06.250312Z",
     "start_time": "2025-07-26T09:32:06.246039Z"
    }
   },
   "id": "e62feae839e8dd98",
   "execution_count": 2
  },
  {
   "cell_type": "code",
   "outputs": [
    {
     "data": {
      "text/plain": "array([[ 0.86405421+0.j        , -0.95182159+0.j        ,\n        -0.79805337+0.j        , -0.79805337-0.j        ],\n       [ 0.32246053+0.j        ,  0.18049598+0.j        ,\n         0.16709766+0.30294012j,  0.16709766-0.30294012j],\n       [ 0.34608173+0.j        , -0.15419782+0.j        ,\n         0.26085167-0.41413812j,  0.26085167+0.41413812j],\n       [ 0.17221201+0.j        ,  0.19411309+0.j        ,\n        -0.06121968+0.01070759j, -0.06121968-0.01070759j]])"
     },
     "execution_count": 3,
     "metadata": {},
     "output_type": "execute_result"
    }
   ],
   "source": [
    "#eig_val特征值,eig_vec特征向量\n",
    "eig_val,eig_vec=np.linalg.eig(A)\n",
    "eig_vec"
   ],
   "metadata": {
    "collapsed": false,
    "ExecuteTime": {
     "end_time": "2025-07-26T09:32:08.215090Z",
     "start_time": "2025-07-26T09:32:08.210192Z"
    }
   },
   "id": "1d854acca6e34c9",
   "execution_count": 3
  },
  {
   "cell_type": "code",
   "outputs": [
    {
     "data": {
      "text/plain": "np.complex128(3.9445215895321732+0j)"
     },
     "execution_count": 4,
     "metadata": {},
     "output_type": "execute_result"
    }
   ],
   "source": [
    "Max_eig=max(eig_val)#求特征值最大值\n",
    "Max_eig"
   ],
   "metadata": {
    "collapsed": false,
    "ExecuteTime": {
     "end_time": "2025-07-26T09:32:09.492297Z",
     "start_time": "2025-07-26T09:32:09.488781Z"
    }
   },
   "id": "25f6a084e929dabd",
   "execution_count": 4
  },
  {
   "cell_type": "code",
   "outputs": [
    {
     "name": "stdout",
     "output_type": "stream",
     "text": [
      "一致性指标CI= (-0.018492803489275584+0j)\n",
      "一致性比例CR= (-0.0207784308868265+0j)\n",
      "因为CR<0.10，所以该判断矩阵A的一致性可以接受\n"
     ]
    }
   ],
   "source": [
    "CI=(Max_eig- n)/(n-1)\n",
    "RI=[0,0.00001,0.52,0.89,1.12,1.26,1.36,1.41,1.46,1.49,1.52,1.54,1.56,1.58,1.59,1.5943,1.6064,1.6133,1.6207,1.6292,1.6385,1.6403,1.6462,1.6497,1.6556,1.6587,1.6631,1.667,1.6693,1.6724]#百度对RI查表得，数值为1-30阶数矩阵的RI值\n",
    "#则此处RI最多接受n=30\n",
    "#ps,此处n=2一定为一致矩阵，CI=0，为了防止分母为0，将RI中第二个0，调整为0.00001\n",
    "CR=CI/RI[n-1]\n",
    "print('一致性指标CI=',CI)\n",
    "print('一致性比例CR=',CR)\n",
    "if CR<0.1:\n",
    "    print('因为CR<0.10，所以该判断矩阵A的一致性可以接受')\n",
    "else:\n",
    "    print('注意：CR>=0.10,因此该判断矩阵A需要进行修改')"
   ],
   "metadata": {
    "collapsed": true,
    "ExecuteTime": {
     "end_time": "2025-07-26T09:32:10.086674Z",
     "start_time": "2025-07-26T09:32:10.083142Z"
    }
   },
   "id": "initial_id",
   "execution_count": 5
  },
  {
   "cell_type": "code",
   "outputs": [],
   "source": [
    "#算术平均法求权重"
   ],
   "metadata": {
    "collapsed": false,
    "ExecuteTime": {
     "end_time": "2025-07-26T09:32:10.672221Z",
     "start_time": "2025-07-26T09:32:10.670254Z"
    }
   },
   "id": "657417434cfb8961",
   "execution_count": 6
  },
  {
   "cell_type": "code",
   "outputs": [
    {
     "name": "stdout",
     "output_type": "stream",
     "text": [
      "[0.51091873 0.19075348 0.19659858 0.1017292 ]\n"
     ]
    }
   ],
   "source": [
    "import numpy as np\n",
    "A=np.array([[1,2,3,5,],[1/2,1,1/2,2],[1/3,2,1,1/2],[1/5,1/2,1/2,1]])\n",
    "#可以通过指定axis参数来计算多维数组的某个维度上的元素总和。例如，在二维数组中，axis=0表示按列计算总和,axis=1表示按行计算总和\n",
    "ASum=np.sum(A,axis=0)\n",
    "#获取A的行和列\n",
    "n=A.shape[0]\n",
    "#归一化，二维数组除以一维数组扩展为与二维数组相同的形状，然后进行逐元素的除法运算\n",
    "Stand_A=A/ASum\n",
    "#各列相加到同一行\n",
    "ASumr=np.sum(Stand_A,axis=1)\n",
    "#计算权重向量\n",
    "weights=ASumr/n\n",
    "print(weights)"
   ],
   "metadata": {
    "collapsed": false,
    "ExecuteTime": {
     "end_time": "2025-07-26T09:32:11.225355Z",
     "start_time": "2025-07-26T09:32:11.221952Z"
    }
   },
   "id": "577f1dd99e1a9458",
   "execution_count": 7
  },
  {
   "cell_type": "code",
   "outputs": [],
   "source": [
    "#几何平均法求权重"
   ],
   "metadata": {
    "collapsed": false,
    "ExecuteTime": {
     "end_time": "2025-07-26T09:32:11.714370Z",
     "start_time": "2025-07-26T09:32:11.712141Z"
    }
   },
   "id": "b5ea6d407ca8d094",
   "execution_count": 8
  },
  {
   "cell_type": "code",
   "outputs": [
    {
     "name": "stdout",
     "output_type": "stream",
     "text": [
      "[0.53021607 0.19050881 0.17214414 0.10713098]\n"
     ]
    }
   ],
   "source": [
    "import numpy as np\n",
    "A=np.array([[1,2,3,5,],[1/2,1,1/2,2],[1/3,2,1,1/2],[1/5,1/2,1/2,1]])\n",
    "n=A.shape[0]\n",
    "#np.power计算一维数组中所有元素的乘积\n",
    "#可以通过指定axis参数来计算多维数组的某个维度上的元素总和。例如，在二维数组中，axis=0表示按列计算总和,axis=1表示按行计算总和\n",
    "prod_A=np.prod(A,axis=1)\n",
    "#np.power,对数组中的元素进行幂运算\n",
    "#np.power(a,b),对数组中a的每个元素都按照b指数进行运算\n",
    "prod_n_A=np.power(prod_A,1/n)\n",
    "#归一化处理\n",
    "re_prod_A=prod_n_A/np.sum(prod_n_A)\n",
    "#展示权重结果\n",
    "print(re_prod_A)\n",
    "\n"
   ],
   "metadata": {
    "collapsed": false,
    "ExecuteTime": {
     "end_time": "2025-07-26T09:32:12.210594Z",
     "start_time": "2025-07-26T09:32:12.207247Z"
    }
   },
   "id": "104f62663f3befe0",
   "execution_count": 9
  },
  {
   "cell_type": "code",
   "outputs": [],
   "source": [
    "#特征值法求权重"
   ],
   "metadata": {
    "collapsed": false,
    "ExecuteTime": {
     "end_time": "2025-07-26T09:32:12.645080Z",
     "start_time": "2025-07-26T09:32:12.642609Z"
    }
   },
   "id": "4d07656237159d4b",
   "execution_count": 10
  },
  {
   "cell_type": "code",
   "outputs": [
    {
     "name": "stdout",
     "output_type": "stream",
     "text": [
      "[0.5068336 +0.j 0.18914766+0.j 0.20300329+0.j 0.10101546+0.j]\n"
     ]
    }
   ],
   "source": [
    "import numpy as np\n",
    "A=np.array([[1,2,3,5,],[1/2,1,1/2,2],[1/3,2,1,1/2],[1/5,1/2,1/2,1]])\n",
    "n=A.shape[0]\n",
    "eig_values,eig_vectors=np.linalg.eig(A)\n",
    "#求最大特征值的索引，np.argmax,返回数组中最大值的索引\n",
    "max_index=np.argmax(eig_values)\n",
    "#找出对应的特征向量\n",
    "max_vector=eig_vectors[:,max_index]\n",
    "#对特征向量进行归一化处理，得到权重\n",
    "weights=max_vector/np.sum(max_vector)\n",
    "#输出权重\n",
    "print(weights)"
   ],
   "metadata": {
    "collapsed": false,
    "ExecuteTime": {
     "end_time": "2025-07-26T09:32:13.060242Z",
     "start_time": "2025-07-26T09:32:13.056489Z"
    }
   },
   "id": "7a8757109894d281",
   "execution_count": 11
  },
  {
   "cell_type": "code",
   "outputs": [],
   "source": [],
   "metadata": {
    "collapsed": false
   },
   "id": "e5e9c40d3db7bf12"
  }
 ],
 "metadata": {
  "kernelspec": {
   "display_name": "Python 3",
   "language": "python",
   "name": "python3"
  },
  "language_info": {
   "codemirror_mode": {
    "name": "ipython",
    "version": 2
   },
   "file_extension": ".py",
   "mimetype": "text/x-python",
   "name": "python",
   "nbconvert_exporter": "python",
   "pygments_lexer": "ipython2",
   "version": "2.7.6"
  }
 },
 "nbformat": 4,
 "nbformat_minor": 5
}
